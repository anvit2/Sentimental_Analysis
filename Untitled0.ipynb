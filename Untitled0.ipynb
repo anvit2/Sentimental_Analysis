{
  "nbformat": 4,
  "nbformat_minor": 0,
  "metadata": {
    "colab": {
      "name": "Untitled0.ipynb",
      "provenance": [],
      "collapsed_sections": [],
      "authorship_tag": "ABX9TyOgMT4Qqnm9NBsW2Wm/Z4ps",
      "include_colab_link": true
    },
    "kernelspec": {
      "name": "python3",
      "display_name": "Python 3"
    },
    "language_info": {
      "name": "python"
    }
  },
  "cells": [
    {
      "cell_type": "markdown",
      "metadata": {
        "id": "view-in-github",
        "colab_type": "text"
      },
      "source": [
        "<a href=\"https://colab.research.google.com/github/anvit2/Sentimental_Analysis/blob/main/Untitled0.ipynb\" target=\"_parent\"><img src=\"https://colab.research.google.com/assets/colab-badge.svg\" alt=\"Open In Colab\"/></a>"
      ]
    },
    {
      "cell_type": "code",
      "metadata": {
        "id": "-DghTCa9lYMd"
      },
      "source": [
        "#Description : Sentimental analysis program parse the tweet"
      ],
      "execution_count": null,
      "outputs": []
    },
    {
      "cell_type": "code",
      "metadata": {
        "id": "r7U1IF6FllNx"
      },
      "source": [
        "import tweepy\n",
        "from textblob import TextBlob\n",
        "from wordcloud import WordCloud\n",
        "import pandas as pd\n",
        "import numpy as np\n",
        "import re\n",
        "import matplotlib.pyplot as plt\n",
        "plt.style.use('fivethirtyeight')"
      ],
      "execution_count": 3,
      "outputs": []
    },
    {
      "cell_type": "code",
      "metadata": {
        "colab": {
          "resources": {
            "http://localhost:8080/nbextensions/google.colab/files.js": {
              "data": "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",
              "ok": true,
              "headers": [
                [
                  "content-type",
                  "application/javascript"
                ]
              ],
              "status": 200,
              "status_text": ""
            }
          },
          "base_uri": "https://localhost:8080/",
          "height": 73
        },
        "id": "DxMvn4M4mYZT",
        "outputId": "e149f242-4a93-467b-b54a-585b3edb7065"
      },
      "source": [
        "#load the data\n",
        "from google.colab import files\n",
        "uploaded= files.upload()"
      ],
      "execution_count": 7,
      "outputs": [
        {
          "output_type": "display_data",
          "data": {
            "text/html": [
              "\n",
              "     <input type=\"file\" id=\"files-6fbdf78d-7f71-4a5b-9970-a6a4b73a6ff7\" name=\"files[]\" multiple disabled\n",
              "        style=\"border:none\" />\n",
              "     <output id=\"result-6fbdf78d-7f71-4a5b-9970-a6a4b73a6ff7\">\n",
              "      Upload widget is only available when the cell has been executed in the\n",
              "      current browser session. Please rerun this cell to enable.\n",
              "      </output>\n",
              "      <script src=\"/nbextensions/google.colab/files.js\"></script> "
            ],
            "text/plain": [
              "<IPython.core.display.HTML object>"
            ]
          },
          "metadata": {
            "tags": []
          }
        },
        {
          "output_type": "stream",
          "text": [
            "Saving login.csv to login (2).csv\n"
          ],
          "name": "stdout"
        }
      ]
    },
    {
      "cell_type": "code",
      "metadata": {
        "id": "EP0r8bN5pmuC"
      },
      "source": [
        "#data\n",
        "log= pd.read_csv('login.csv')"
      ],
      "execution_count": 6,
      "outputs": []
    },
    {
      "cell_type": "code",
      "metadata": {
        "id": "1rvoausJqUjD"
      },
      "source": [
        "#twitter API Credential\n",
        "consumerKey= \"cxjrmqCNcsBc9wV4AHZ2Ttvds\"\n",
        "consumerSecret= \"tGel7fAeJ5xFLL2ff3sPlWz4YkvZkQKHhNf94rXE4TePn164l0\"\n",
        "accessToken= \"1405050342895620097-KzEGarLdRURhz5AhwVC7w4OzdXMh5W\"\n",
        "accessTokenSecret=\"aqA0hiYqrm0lEGt7neU40vEPp6FiGTKDsWzSisCB2bIMh\"\n"
      ],
      "execution_count": 10,
      "outputs": []
    },
    {
      "cell_type": "code",
      "metadata": {
        "id": "JP0tsbhWuMo4"
      },
      "source": [
        "#create the authenticate\n",
        "authenticate = tweepy.OAuthHandler(consumerKey,consumerSecret)\n",
        "\n",
        "#access token \n",
        "authenticate.set_access_token(accessToken,accessTokenSecret)\n",
        "\n",
        "# create api object \n",
        "api = tweepy.API(authenticate, wait_on_rate_limit= True)"
      ],
      "execution_count": 12,
      "outputs": []
    },
    {
      "cell_type": "code",
      "metadata": {
        "colab": {
          "base_uri": "https://localhost:8080/"
        },
        "id": "c_iM0umXv0wp",
        "outputId": "0d911b1e-1125-4d76-c38f-282cb96e7e03"
      },
      "source": [
        "# Extract 100 tweets from a user\n",
        "posts= api.search('SSR',  count=100, lang=\"en\",result_type=\"recent\",tweet_mode=\"extended\") #use api.user_timeline(screen_name=\"\") for doing analysis of any account\n",
        "\n",
        "#print the last five tweet\n",
        "print(\"show the 5 recent tweets: \\n\")\n",
        "i=1\n",
        "for tweet in posts[0:5]:\n",
        "  print(str(i)+') ' +tweet.full_text+'\\n')\n",
        "  i=i+1"
      ],
      "execution_count": 193,
      "outputs": [
        {
          "output_type": "stream",
          "text": [
            "show the 5 recent tweets: \n",
            "\n",
            "1) RT @BackupSsr: Til when justice is not served n why?? \n",
            "@ips_nupurprasad \n",
            "\n",
            "POLITICS HAMPERING SSR CASE\n",
            "\n",
            "2) RT @C_Shatab: Justice for Sushant Singh Rajput can't be denied by politics. \n",
            "\n",
            "It's the divine order that will fructify! \n",
            "\n",
            "Politics Hamperin…\n",
            "\n",
            "3) RT @MadhuRay_06: \"Success is not final, Failure is not fatal: it is the 𝐂𝐎𝐔𝐑𝐀𝐆𝐄 𝐓𝐎 𝐂𝐎𝐍𝐓𝐈𝐍𝐔𝐄 that counts.\"\n",
            "\n",
            "Keep roaring...🔥\n",
            "POLITICS HAPMPE…\n",
            "\n",
            "4) stop attacking me https://t.co/3eS38ZHcXy\n",
            "\n",
            "5) RT @prankya: Law is not law if it violates the principle of Eternal Justice.\n",
            "\n",
            "Justice for Sushant will prevail 🙏 \n",
            "\n",
            "Mam @ips_nupurprasad,…\n",
            "\n"
          ],
          "name": "stdout"
        }
      ]
    },
    {
      "cell_type": "code",
      "metadata": {
        "colab": {
          "base_uri": "https://localhost:8080/",
          "height": 203
        },
        "id": "Frhpv9cn2O11",
        "outputId": "bb848914-aa74-4807-bd51-08ba3395c13f"
      },
      "source": [
        "df=pd.DataFrame([tweet.full_text for tweet in posts], columns=['Tweets'])\n",
        "df.head()"
      ],
      "execution_count": 165,
      "outputs": [
        {
          "output_type": "execute_result",
          "data": {
            "text/html": [
              "<div>\n",
              "<style scoped>\n",
              "    .dataframe tbody tr th:only-of-type {\n",
              "        vertical-align: middle;\n",
              "    }\n",
              "\n",
              "    .dataframe tbody tr th {\n",
              "        vertical-align: top;\n",
              "    }\n",
              "\n",
              "    .dataframe thead th {\n",
              "        text-align: right;\n",
              "    }\n",
              "</style>\n",
              "<table border=\"1\" class=\"dataframe\">\n",
              "  <thead>\n",
              "    <tr style=\"text-align: right;\">\n",
              "      <th></th>\n",
              "      <th>Tweets</th>\n",
              "    </tr>\n",
              "  </thead>\n",
              "  <tbody>\n",
              "    <tr>\n",
              "      <th>0</th>\n",
              "      <td>RT @Jannat_Firdouse: When the Politics Of Conv...</td>\n",
              "    </tr>\n",
              "    <tr>\n",
              "      <th>1</th>\n",
              "      <td>POLITICS HAMPERING SSR CASE https://t.co/xwmbP...</td>\n",
              "    </tr>\n",
              "    <tr>\n",
              "      <th>2</th>\n",
              "      <td>RT @prankya: Law is not law if it violates the...</td>\n",
              "    </tr>\n",
              "    <tr>\n",
              "      <th>3</th>\n",
              "      <td>RT @KumardeepRoy21: Today's tagline\\nPOLITICS ...</td>\n",
              "    </tr>\n",
              "    <tr>\n",
              "      <th>4</th>\n",
              "      <td>RT @ModakEsha: According to reports, a politic...</td>\n",
              "    </tr>\n",
              "  </tbody>\n",
              "</table>\n",
              "</div>"
            ],
            "text/plain": [
              "                                              Tweets\n",
              "0  RT @Jannat_Firdouse: When the Politics Of Conv...\n",
              "1  POLITICS HAMPERING SSR CASE https://t.co/xwmbP...\n",
              "2  RT @prankya: Law is not law if it violates the...\n",
              "3  RT @KumardeepRoy21: Today's tagline\\nPOLITICS ...\n",
              "4  RT @ModakEsha: According to reports, a politic..."
            ]
          },
          "metadata": {
            "tags": []
          },
          "execution_count": 165
        }
      ]
    },
    {
      "cell_type": "code",
      "metadata": {
        "colab": {
          "base_uri": "https://localhost:8080/",
          "height": 417
        },
        "id": "sCOKD3df3Kb-",
        "outputId": "4a84ebe2-35d8-497b-ac3e-26eeeec32a98"
      },
      "source": [
        "#clean the text\n",
        "#function for clean text\n",
        "def cleanTxt(text):\n",
        "  text=re.sub(r'@[A-Za-z0-9]+', '',text)\n",
        "  text=re.sub(r'#', '',text)\n",
        "  text=re.sub(r':','',text)\n",
        "  text=re.sub(r'_','',text)\n",
        "  text=re.sub(r'RT[\\s]','',text)\n",
        "  text=re.sub(r'https?\\/\\/\\S+', '',text)\n",
        "\n",
        "  return text\n",
        "\n",
        "#cleaning the text\n",
        "df['Tweets']=df['Tweets'].apply(cleanTxt)\n",
        "\n",
        "# to show the clean txt\n",
        "df"
      ],
      "execution_count": 170,
      "outputs": [
        {
          "output_type": "execute_result",
          "data": {
            "text/html": [
              "<div>\n",
              "<style scoped>\n",
              "    .dataframe tbody tr th:only-of-type {\n",
              "        vertical-align: middle;\n",
              "    }\n",
              "\n",
              "    .dataframe tbody tr th {\n",
              "        vertical-align: top;\n",
              "    }\n",
              "\n",
              "    .dataframe thead th {\n",
              "        text-align: right;\n",
              "    }\n",
              "</style>\n",
              "<table border=\"1\" class=\"dataframe\">\n",
              "  <thead>\n",
              "    <tr style=\"text-align: right;\">\n",
              "      <th></th>\n",
              "      <th>Tweets</th>\n",
              "    </tr>\n",
              "  </thead>\n",
              "  <tbody>\n",
              "    <tr>\n",
              "      <th>0</th>\n",
              "      <td>Firdouse When the Politics Of Converting the M...</td>\n",
              "    </tr>\n",
              "    <tr>\n",
              "      <th>1</th>\n",
              "      <td>POLITICS HAMPERING SSR CASE</td>\n",
              "    </tr>\n",
              "    <tr>\n",
              "      <th>2</th>\n",
              "      <td>Law is not law if it violates the principle o...</td>\n",
              "    </tr>\n",
              "    <tr>\n",
              "      <th>3</th>\n",
              "      <td>Today's tagline\\nPOLITICS HAMPERING SSR CASE\\...</td>\n",
              "    </tr>\n",
              "    <tr>\n",
              "      <th>4</th>\n",
              "      <td>According to reports, a politician attended t...</td>\n",
              "    </tr>\n",
              "    <tr>\n",
              "      <th>...</th>\n",
              "      <td>...</td>\n",
              "    </tr>\n",
              "    <tr>\n",
              "      <th>95</th>\n",
              "      <td>UP Police registers FIR against alleged journ...</td>\n",
              "    </tr>\n",
              "    <tr>\n",
              "      <th>96</th>\n",
              "      <td>sushfan   Get ready for the farewell 2.0 bola\\...</td>\n",
              "    </tr>\n",
              "    <tr>\n",
              "      <th>97</th>\n",
              "      <td>Law is not law if it violates the principle o...</td>\n",
              "    </tr>\n",
              "    <tr>\n",
              "      <th>98</th>\n",
              "      <td>SSR What is behind close door meetings 😡\\n\\nPO...</td>\n",
              "    </tr>\n",
              "    <tr>\n",
              "      <th>99</th>\n",
              "      <td>Devotee      04    GlRL    I second that. ...</td>\n",
              "    </tr>\n",
              "  </tbody>\n",
              "</table>\n",
              "<p>100 rows × 1 columns</p>\n",
              "</div>"
            ],
            "text/plain": [
              "                                               Tweets\n",
              "0   Firdouse When the Politics Of Converting the M...\n",
              "1                        POLITICS HAMPERING SSR CASE \n",
              "2    Law is not law if it violates the principle o...\n",
              "3    Today's tagline\\nPOLITICS HAMPERING SSR CASE\\...\n",
              "4    According to reports, a politician attended t...\n",
              "..                                                ...\n",
              "95   UP Police registers FIR against alleged journ...\n",
              "96  sushfan   Get ready for the farewell 2.0 bola\\...\n",
              "97   Law is not law if it violates the principle o...\n",
              "98  SSR What is behind close door meetings 😡\\n\\nPO...\n",
              "99      Devotee      04    GlRL    I second that. ...\n",
              "\n",
              "[100 rows x 1 columns]"
            ]
          },
          "metadata": {
            "tags": []
          },
          "execution_count": 170
        }
      ]
    },
    {
      "cell_type": "code",
      "metadata": {
        "colab": {
          "base_uri": "https://localhost:8080/",
          "height": 417
        },
        "id": "sCLp38Pe5NHJ",
        "outputId": "4375a998-0ec6-4b38-a7f6-44c28a3099f0"
      },
      "source": [
        "#create a function to get the subjectivity\n",
        "\n",
        "def getSubjectivity(text):\n",
        "  return TextBlob(text).sentiment.subjectivity\n",
        "\n",
        "#create the function to get the polarity\n",
        "def getpolarity(text):\n",
        "  return TextBlob(text).sentiment.polarity\n",
        "\n",
        "#create two column for subjectivity and polarity\n",
        "df['Subjectivity']= df['Tweets'].apply(getSubjectivity)\n",
        "df['Polarity']= df['Tweets'].apply(getpolarity)\n",
        "\n",
        "#show the new dataframe\n",
        "df\n"
      ],
      "execution_count": 171,
      "outputs": [
        {
          "output_type": "execute_result",
          "data": {
            "text/html": [
              "<div>\n",
              "<style scoped>\n",
              "    .dataframe tbody tr th:only-of-type {\n",
              "        vertical-align: middle;\n",
              "    }\n",
              "\n",
              "    .dataframe tbody tr th {\n",
              "        vertical-align: top;\n",
              "    }\n",
              "\n",
              "    .dataframe thead th {\n",
              "        text-align: right;\n",
              "    }\n",
              "</style>\n",
              "<table border=\"1\" class=\"dataframe\">\n",
              "  <thead>\n",
              "    <tr style=\"text-align: right;\">\n",
              "      <th></th>\n",
              "      <th>Tweets</th>\n",
              "      <th>Subjectivity</th>\n",
              "      <th>Polarity</th>\n",
              "    </tr>\n",
              "  </thead>\n",
              "  <tbody>\n",
              "    <tr>\n",
              "      <th>0</th>\n",
              "      <td>Firdouse When the Politics Of Converting the M...</td>\n",
              "      <td>0.00000</td>\n",
              "      <td>0.00000</td>\n",
              "    </tr>\n",
              "    <tr>\n",
              "      <th>1</th>\n",
              "      <td>POLITICS HAMPERING SSR CASE</td>\n",
              "      <td>0.00000</td>\n",
              "      <td>0.00000</td>\n",
              "    </tr>\n",
              "    <tr>\n",
              "      <th>2</th>\n",
              "      <td>Law is not law if it violates the principle o...</td>\n",
              "      <td>0.00000</td>\n",
              "      <td>0.00000</td>\n",
              "    </tr>\n",
              "    <tr>\n",
              "      <th>3</th>\n",
              "      <td>Today's tagline\\nPOLITICS HAMPERING SSR CASE\\...</td>\n",
              "      <td>0.00000</td>\n",
              "      <td>0.00000</td>\n",
              "    </tr>\n",
              "    <tr>\n",
              "      <th>4</th>\n",
              "      <td>According to reports, a politician attended t...</td>\n",
              "      <td>0.00000</td>\n",
              "      <td>0.00000</td>\n",
              "    </tr>\n",
              "    <tr>\n",
              "      <th>...</th>\n",
              "      <td>...</td>\n",
              "      <td>...</td>\n",
              "      <td>...</td>\n",
              "    </tr>\n",
              "    <tr>\n",
              "      <th>95</th>\n",
              "      <td>UP Police registers FIR against alleged journ...</td>\n",
              "      <td>0.05000</td>\n",
              "      <td>-0.05000</td>\n",
              "    </tr>\n",
              "    <tr>\n",
              "      <th>96</th>\n",
              "      <td>sushfan   Get ready for the farewell 2.0 bola\\...</td>\n",
              "      <td>0.50000</td>\n",
              "      <td>0.20000</td>\n",
              "    </tr>\n",
              "    <tr>\n",
              "      <th>97</th>\n",
              "      <td>Law is not law if it violates the principle o...</td>\n",
              "      <td>0.00000</td>\n",
              "      <td>0.00000</td>\n",
              "    </tr>\n",
              "    <tr>\n",
              "      <th>98</th>\n",
              "      <td>SSR What is behind close door meetings 😡\\n\\nPO...</td>\n",
              "      <td>0.70000</td>\n",
              "      <td>-0.40000</td>\n",
              "    </tr>\n",
              "    <tr>\n",
              "      <th>99</th>\n",
              "      <td>Devotee      04    GlRL    I second that. ...</td>\n",
              "      <td>0.34375</td>\n",
              "      <td>0.19375</td>\n",
              "    </tr>\n",
              "  </tbody>\n",
              "</table>\n",
              "<p>100 rows × 3 columns</p>\n",
              "</div>"
            ],
            "text/plain": [
              "                                               Tweets  Subjectivity  Polarity\n",
              "0   Firdouse When the Politics Of Converting the M...       0.00000   0.00000\n",
              "1                        POLITICS HAMPERING SSR CASE        0.00000   0.00000\n",
              "2    Law is not law if it violates the principle o...       0.00000   0.00000\n",
              "3    Today's tagline\\nPOLITICS HAMPERING SSR CASE\\...       0.00000   0.00000\n",
              "4    According to reports, a politician attended t...       0.00000   0.00000\n",
              "..                                                ...           ...       ...\n",
              "95   UP Police registers FIR against alleged journ...       0.05000  -0.05000\n",
              "96  sushfan   Get ready for the farewell 2.0 bola\\...       0.50000   0.20000\n",
              "97   Law is not law if it violates the principle o...       0.00000   0.00000\n",
              "98  SSR What is behind close door meetings 😡\\n\\nPO...       0.70000  -0.40000\n",
              "99      Devotee      04    GlRL    I second that. ...       0.34375   0.19375\n",
              "\n",
              "[100 rows x 3 columns]"
            ]
          },
          "metadata": {
            "tags": []
          },
          "execution_count": 171
        }
      ]
    },
    {
      "cell_type": "code",
      "metadata": {
        "colab": {
          "base_uri": "https://localhost:8080/",
          "height": 256
        },
        "id": "xbwETbAA6-sS",
        "outputId": "3fe91eee-6ad5-47ca-f314-0caa8d85faee"
      },
      "source": [
        "#Plot word cloud\n",
        "allWords=' '.join([twts for twts in df['Tweets']])\n",
        "wordCloud= WordCloud(width= 500,height=300, random_state= 21, max_font_size=119).generate(allWords)\n",
        "\n",
        "plt.imshow(wordCloud, interpolation=\"bilinear\")\n",
        "plt.axis('off')\n",
        "plt.show()"
      ],
      "execution_count": 172,
      "outputs": [
        {
          "output_type": "display_data",
          "data": {
            "image/png": "[encoded data removed]",
            "text/plain": [
              "<Figure size 432x288 with 1 Axes>"
            ]
          },
          "metadata": {
            "tags": []
          }
        }
      ]
    },
    {
      "cell_type": "code",
      "metadata": {
        "colab": {
          "base_uri": "https://localhost:8080/",
          "height": 417
        },
        "id": "xWySewu39gxo",
        "outputId": "a9e696bf-e760-460e-edeb-ae8c529c6b0f"
      },
      "source": [
        "#create the function to compute negative , neutral, and positive analysis\n",
        "def getAnalysis(score):\n",
        "  if score <0:\n",
        "    return 'Negative'\n",
        "  elif score==0:\n",
        "    return 'Neutral'\n",
        "  else:\n",
        "    return 'Positive'\n",
        "\n",
        "\n",
        "df['Analysis']= df['Polarity'].apply(getAnalysis)\n",
        "\n",
        "df"
      ],
      "execution_count": 173,
      "outputs": [
        {
          "output_type": "execute_result",
          "data": {
            "text/html": [
              "<div>\n",
              "<style scoped>\n",
              "    .dataframe tbody tr th:only-of-type {\n",
              "        vertical-align: middle;\n",
              "    }\n",
              "\n",
              "    .dataframe tbody tr th {\n",
              "        vertical-align: top;\n",
              "    }\n",
              "\n",
              "    .dataframe thead th {\n",
              "        text-align: right;\n",
              "    }\n",
              "</style>\n",
              "<table border=\"1\" class=\"dataframe\">\n",
              "  <thead>\n",
              "    <tr style=\"text-align: right;\">\n",
              "      <th></th>\n",
              "      <th>Tweets</th>\n",
              "      <th>Subjectivity</th>\n",
              "      <th>Polarity</th>\n",
              "      <th>Analysis</th>\n",
              "    </tr>\n",
              "  </thead>\n",
              "  <tbody>\n",
              "    <tr>\n",
              "      <th>0</th>\n",
              "      <td>Firdouse When the Politics Of Converting the M...</td>\n",
              "      <td>0.00000</td>\n",
              "      <td>0.00000</td>\n",
              "      <td>Neutral</td>\n",
              "    </tr>\n",
              "    <tr>\n",
              "      <th>1</th>\n",
              "      <td>POLITICS HAMPERING SSR CASE</td>\n",
              "      <td>0.00000</td>\n",
              "      <td>0.00000</td>\n",
              "      <td>Neutral</td>\n",
              "    </tr>\n",
              "    <tr>\n",
              "      <th>2</th>\n",
              "      <td>Law is not law if it violates the principle o...</td>\n",
              "      <td>0.00000</td>\n",
              "      <td>0.00000</td>\n",
              "      <td>Neutral</td>\n",
              "    </tr>\n",
              "    <tr>\n",
              "      <th>3</th>\n",
              "      <td>Today's tagline\\nPOLITICS HAMPERING SSR CASE\\...</td>\n",
              "      <td>0.00000</td>\n",
              "      <td>0.00000</td>\n",
              "      <td>Neutral</td>\n",
              "    </tr>\n",
              "    <tr>\n",
              "      <th>4</th>\n",
              "      <td>According to reports, a politician attended t...</td>\n",
              "      <td>0.00000</td>\n",
              "      <td>0.00000</td>\n",
              "      <td>Neutral</td>\n",
              "    </tr>\n",
              "    <tr>\n",
              "      <th>...</th>\n",
              "      <td>...</td>\n",
              "      <td>...</td>\n",
              "      <td>...</td>\n",
              "      <td>...</td>\n",
              "    </tr>\n",
              "    <tr>\n",
              "      <th>95</th>\n",
              "      <td>UP Police registers FIR against alleged journ...</td>\n",
              "      <td>0.05000</td>\n",
              "      <td>-0.05000</td>\n",
              "      <td>Negative</td>\n",
              "    </tr>\n",
              "    <tr>\n",
              "      <th>96</th>\n",
              "      <td>sushfan   Get ready for the farewell 2.0 bola\\...</td>\n",
              "      <td>0.50000</td>\n",
              "      <td>0.20000</td>\n",
              "      <td>Positive</td>\n",
              "    </tr>\n",
              "    <tr>\n",
              "      <th>97</th>\n",
              "      <td>Law is not law if it violates the principle o...</td>\n",
              "      <td>0.00000</td>\n",
              "      <td>0.00000</td>\n",
              "      <td>Neutral</td>\n",
              "    </tr>\n",
              "    <tr>\n",
              "      <th>98</th>\n",
              "      <td>SSR What is behind close door meetings 😡\\n\\nPO...</td>\n",
              "      <td>0.70000</td>\n",
              "      <td>-0.40000</td>\n",
              "      <td>Negative</td>\n",
              "    </tr>\n",
              "    <tr>\n",
              "      <th>99</th>\n",
              "      <td>Devotee      04    GlRL    I second that. ...</td>\n",
              "      <td>0.34375</td>\n",
              "      <td>0.19375</td>\n",
              "      <td>Positive</td>\n",
              "    </tr>\n",
              "  </tbody>\n",
              "</table>\n",
              "<p>100 rows × 4 columns</p>\n",
              "</div>"
            ],
            "text/plain": [
              "                                               Tweets  ...  Analysis\n",
              "0   Firdouse When the Politics Of Converting the M...  ...   Neutral\n",
              "1                        POLITICS HAMPERING SSR CASE   ...   Neutral\n",
              "2    Law is not law if it violates the principle o...  ...   Neutral\n",
              "3    Today's tagline\\nPOLITICS HAMPERING SSR CASE\\...  ...   Neutral\n",
              "4    According to reports, a politician attended t...  ...   Neutral\n",
              "..                                                ...  ...       ...\n",
              "95   UP Police registers FIR against alleged journ...  ...  Negative\n",
              "96  sushfan   Get ready for the farewell 2.0 bola\\...  ...  Positive\n",
              "97   Law is not law if it violates the principle o...  ...   Neutral\n",
              "98  SSR What is behind close door meetings 😡\\n\\nPO...  ...  Negative\n",
              "99      Devotee      04    GlRL    I second that. ...  ...  Positive\n",
              "\n",
              "[100 rows x 4 columns]"
            ]
          },
          "metadata": {
            "tags": []
          },
          "execution_count": 173
        }
      ]
    },
    {
      "cell_type": "code",
      "metadata": {
        "colab": {
          "base_uri": "https://localhost:8080/"
        },
        "id": "rh3w3PTu_dF6",
        "outputId": "af510067-9969-4321-a712-5f13325eef7c"
      },
      "source": [
        "#Print all of the positive tweets\n",
        "j=1\n",
        "sortedDF = df.sort_values(by=['Polarity'])\n",
        "for i in range(0,sortedDF.shape[0]):\n",
        "  if (sortedDF['Analysis'][i]=='Positive'):\n",
        "    print(str(j)+')'+sortedDF['Tweets'][i])\n",
        "    print()\n",
        "    j=j+1"
      ],
      "execution_count": 174,
      "outputs": [
        {
          "output_type": "stream",
          "text": [
            "1) Why did Rhea fired SSR's  bodyguards &amp; changed his entire old staff who was with him since 2015 in March just before lockd…\n",
            "\n",
            "2) ✨LIMITED TIME - Summon x50 for free in Chapter M!✨\n",
            "\n",
            "You can now summon 50 times for free in Chapter M!\n",
            "You really shou…\n",
            "\n",
            "3) 🔱 TREND ACTIVITY TODAY 🔱\n",
            "\n",
            "For Our Beloved SSR ❤️\n",
            "\n",
            "Public has initiated this movement, and we demand complete Justice f…\n",
            "\n",
            "4) 🔱 TREND ACTIVITY TODAY 🔱\n",
            "\n",
            "For Our Beloved SSR ✅\n",
            "\n",
            "Public has initiated this movement, and we demand complete Justice for Sush…\n",
            "\n",
            "5) POLITICS HAMPERING SSR CASE \n",
            "\n",
            "If we allow the inner child within us to resurface in the many stages of our life then we ca…\n",
            "\n",
            "6) We  want complete Justice  nupurprasad\n",
            "POLITICS HAMPERING SSR CASE\n",
            "\n",
            "7)verma865 bose Happy birthday warrior ❤\n",
            "God bless you 🙏\n",
            "POLITICS HAMPERING SSR CASE\n",
            "\n",
            "8)Ssr They want to show the murder of an innocent boy as a suicide And thus hide their sins....\n",
            "Raise your voice against injustice…\n",
            "\n",
            "9) Mr.Rane made a stunning disclosure regarding events of a party at Juhu on June 8 which Disha had allegedly attended &amp; resul…\n",
            "\n",
            "10) Crime? -Murder\n",
            "Punishment-roam freely.. It happens only in India.. Ashamed of the system now📌\n",
            "\n",
            "POLITICS HAMPERING SSR C…\n",
            "\n",
            "11) Days are expensive. When you spend a day you have one less day to spend. \n",
            "So make sure you spend each one wisely.  🦋✨💫…\n",
            "\n",
            "12) Public has initiated this movement, and we demand complete Justice for Sushant ! We are aware of the strong forces tha…\n",
            "\n",
            "13)🔱 TREND ACTIVITY TODAY 🔱\n",
            "\n",
            "For Our Beloved SSR ✅\n",
            "\n",
            "Public has initiated this movement, and we demand complete Justice for Sushant ! We are aware of the strong forces that are at work. But NO political pressure should come into play. \n",
            " \n",
            "TAGLINE - POLITICS HAMPERING SSR CASE\n",
            "\n",
            "! \n",
            "\n",
            "14) we want fair justice\n",
            "POLITICS HAMPERING SSR CASE\n",
            "\n",
            "15)Karma never loses an address.\n",
            "  \n",
            "JusticeForSushantSinghRajput \n",
            "POLITICS PAMPERING SSR CASE \n",
            "\n",
            "16) Trend Activity Today \n",
            "\n",
            "For Our Beloved Sushant\n",
            "\n",
            "TAGLINE - POLITICS HAMPERING SSR CASE\n",
            "\n",
            "&amp; Share !\n",
            "\n",
            "17)   No need to wonder about her..she is rhea group..she is very much involved in drug buisness\n",
            "But we need her because she is main witness in ssr case\n",
            "\n",
            "18) TREND ACTIVITY TODAY \n",
            "\n",
            "For Our Beloved SSR \n",
            "\n",
            "TAGLINE - POLITICS HAMPERING SSR CASE\n",
            "\n",
            "Tweet\n",
            "and \n",
            "Share\n",
            "\n",
            "19)verma865 My family had an old collection of bullyweed movies DVDs, today I've torn off the covers of all as My heart totally boi…\n",
            "\n",
            "20) You Attract The People By Qualities You Display.\n",
            "\n",
            "You Keep Them By The Qualities You Possess.\n",
            "\n",
            "Good Morning Everyone ❤\n",
            "\n",
            "POLITI…\n",
            "\n",
            "21) Mr.Rane made a stunning disclosure regarding events of a party at Juhu on June 8 which Disha had allegedly attended &amp; resul…\n",
            "\n",
            "22) I'll be back soon \n",
            "Really soon\n",
            "You guys please keep roaring for justice \n",
            "JusticeForSushantSinghRajput  \n",
            "POLITICS HAMPE…\n",
            "\n",
            "23) Why has not any action been taken against the prime suspects??? That's the foremost step of the investigation, right??…\n",
            "\n",
            "24)terner \"Well Done Is Better Than Well Said\"\n",
            "\n",
            "  nupurprasad \n",
            "\n",
            "POLITICS HAMPERING SSR CASE\n",
            "\n",
            "25) It's very shameful for Country ‼\n",
            "That \n",
            "POLITICS HAMPERING SSR CASE\n",
            "\n",
            "26) Shoutout to  for Continously putting effort for Our beloved SSR♥️♥️.\n",
            "\n",
            "27)sushfan   Get ready for the farewell 2.0 bola\n",
            "Mai 2.0 hu \n",
            "\n",
            "🙀🙀🙀🙀\n",
            "\n",
            "POLITICS HAMPERING SSR CASE\n",
            "\n",
            "28)    Devotee      04    GlRL    I second that. All other things seems to me as divertions...\n",
            "\n",
            "Our primary &amp; one of many goal is JusticeForSushantSinghRajput \n",
            "\n",
            "POLITICS HAMPERING SSR CASE 🔥\n",
            "\n"
          ],
          "name": "stdout"
        }
      ]
    },
    {
      "cell_type": "code",
      "metadata": {
        "colab": {
          "base_uri": "https://localhost:8080/"
        },
        "id": "uQDLuc9VBTx3",
        "outputId": "e2682126-6faf-4c3c-bbcf-ddb42411a9c0"
      },
      "source": [
        "#print the negative\n",
        "j=1\n",
        "sortedDF = df.sort_values(by=['Polarity'])\n",
        "for i in range(0,sortedDF.shape[0]):\n",
        "  if (sortedDF['Analysis'][i]=='Negative'):\n",
        "    print(str(j)+')'+sortedDF['Tweets'][i])\n",
        "    print()\n",
        "    j=j+1"
      ],
      "execution_count": 175,
      "outputs": [
        {
          "output_type": "stream",
          "text": [
            "1) In our country a rape, Murder, Natural calamity, accidental deaths &amp; any criminal or unfortunate incident is first analyzed…\n",
            "\n",
            "2)Firdouse Don’t get Disheartened.. Have Faith.. God is Watching everything &amp;  He won't let our Hard Work go in Vain..\n",
            "\n",
            "Justice W…\n",
            "\n",
            "3) SSR's on screen Mother too believe that he was killed &amp; urging CBI to find out d culprits so that his child can rest i…\n",
            "\n",
            "4) In our country a rape, Murder, Natural calamity, accidental deaths &amp; any criminal or unfortunate incident is first analyzed…\n",
            "\n",
            "5)NSV Bullyweed is used to the world dancing to their tunes. \n",
            "\n",
            "Times up! enough is enough. \n",
            "No more abuse and killings. \n",
            "\n",
            "Central a…\n",
            "\n",
            "6) Why the security guard  Disha's apartment was missing ??\n",
            "\n",
            "POLITICS HAMPERING SSR CASE\n",
            "\n",
            "7) fake news channels \n",
            "&amp;\n",
            "POLITICS HAMPERING SSR CASE\n",
            "\n",
            "8)Chandrani Pithani and RC both entered SSR's home in April 2019. \n",
            "\n",
            "Was it a mere coincidence or did someone plant them both as a par…\n",
            "\n",
            "9) CBI, we trust you in SSR case.. Dont let us down nupurprasad ma'am.\n",
            "\n",
            "POLITICS HAMPERING SSR CASE\n",
            "\n",
            "10)SSR's neck had strangulation marks that were round in shape. Several images showed the dark indent, which could not have been caused by a flimsy cloth. What is the tensile strength of that Green Cloth?\n",
            "nupurprasad    \n",
            "POLITICS HAMPERING SSR CASE\n",
            "\n",
            "11)surabhi Law should be equal for every one...\n",
            "\n",
            "Whether a minister or a common man..\n",
            "\n",
            "POLITICS HAMPERING SSR CASE\n",
            "\n",
            "12)NSV Bullyweed is used to the world dancing to their tunes. \n",
            "\n",
            "Times up! enough is enough. \n",
            "No more abuse and killings. \n",
            "\n",
            "Central a…\n",
            "\n",
            "13) All dirty politics will one day surrender to the Truth.... this is The Law Of Nature. 🍃\n",
            "\n",
            "POLITICS HAMPERING SSR CASE !\n",
            "\n",
            "14) fake news channels \n",
            "&amp;\n",
            "POLITICS HAMPERING SSR CASE\n",
            "\n",
            "15) If there is no Public Pressure they do dirty politics secretly. But in SSR's Case, the pressure from the public has not dim…\n",
            "\n",
            "16)SSR What is behind close door meetings 😡\n",
            "\n",
            "POLITICS HAMPERING SSR CASE\n",
            "\n",
            "17)Why fake tweets were posted from Sushant's Twitter account? Who did that? Isn't it suspicious? \n",
            "\n",
            "POLITICS HAMPERING SSR CASE\n",
            "\n",
            "18) Why is prime accused like Rhea left free?.Why no action against her for giving banned CBD oil to SSR without his knowledge…\n",
            "\n",
            "19) UP Police registers FIR against alleged journalists including \n",
            "Twitter India \n",
            "Zubair \n",
            "Next will be Swara \n",
            "Paid Media Stop L…\n",
            "\n",
            "20)SSR What is behind close door meetings 😡\n",
            "\n",
            "POLITICS HAMPERING SSR CASE\n",
            "\n"
          ],
          "name": "stdout"
        }
      ]
    },
    {
      "cell_type": "code",
      "metadata": {
        "colab": {
          "base_uri": "https://localhost:8080/"
        },
        "id": "xSjOBN1qFAkL",
        "outputId": "72f76044-b56c-4555-aa57-4936156042f6"
      },
      "source": [
        "#for neutral tweets\n",
        "j=1\n",
        "sortedDF = df.sort_values(by=['Polarity'])\n",
        "for i in range(0,sortedDF.shape[0]):\n",
        "  if (sortedDF['Analysis'][i]=='Neutral'):\n",
        "    print(str(j)+')'+sortedDF['Tweets'][i])\n",
        "    print()\n",
        "    j=j+1"
      ],
      "execution_count": 176,
      "outputs": [
        {
          "output_type": "stream",
          "text": [
            "1)Firdouse When the Politics Of Converting the Murder into Suicide will Stop❓\n",
            "\n",
            "- POLITICS HAMPERING SSR CASE\n",
            "nupurprasad\n",
            "\n",
            "2)POLITICS HAMPERING SSR CASE \n",
            "\n",
            "3) Law is not law if it violates the principle of Eternal Justice.\n",
            "\n",
            "Justice for Sushant will prevail 🙏 \n",
            "\n",
            "Mam nupurprasad,…\n",
            "\n",
            "4) Today's tagline\n",
            "POLITICS HAMPERING SSR CASE\n",
            "Tweet. \n",
            "Retweet.\n",
            "\n",
            "5) According to reports, a politician attended the party which lead to Disha's death &amp; a minister of Maha was present when SSR'…\n",
            "\n",
            "6)krutika And the reason why this Bolly-Da-wood is not eliminating is corruption and involvement of some personalities, life threats…\n",
            "\n",
            "7)zayn Raise Your Voice For Sushant Singh Rajput \n",
            "POLITICS HAMPERING SSR CASE\n",
            "\n",
            "8) Don't do politics in SSR Case 🙏🙏\n",
            "  \n",
            "\n",
            "POLITICS HAMPERING SSR CASE\n",
            "\n",
            "9) Don't play with our emotions.😠\n",
            "We need justice. ⚖️\n",
            "nupurprasad \n",
            " \n",
            "POLITICS HAMPERING SSR CASE\n",
            "\n",
            "10)koushani Whom is he talking about ? It's 1yr but people not forgotten Sushant then how can we forget him in future? This stateme…\n",
            "\n",
            "11)ch CBI should be democratically accountable. \n",
            "POLITICS HAMPERING SSR CASE\n",
            "\n",
            "12) Who allowed dipesh &amp; Sand**p Singh to carry the body??To whom sand**p singh showing thumps up??Why did rhea allowed to PR…\n",
            "\n",
            "13) Justice is delaying for 367 day .\n",
            "\n",
            "Justice for Sushant Singh Rajput\n",
            "\n",
            "nupurprasad\n",
            "\n",
            "\n",
            "\n",
            "POLITICS HAMPERI…\n",
            "\n",
            "14) THREAD\n",
            "1/6\n",
            "Today whatever is happening in Sushant &amp; Disha Case, It's only because of that Politician involved\n",
            "but also because…\n",
            "\n",
            "15) 2101  HoodieGuy   Manny  …\n",
            "\n",
            "16) Law is not law if it violates the principle of Eternal Justice.\n",
            "\n",
            "Justice for Sushant will prevail 🙏 \n",
            "\n",
            "Mam nupurprasad,…\n",
            "\n",
            "17) We will stand our ground...until &amp; unless Justice is delivered ✊\n",
            "\n",
            "POLITICS HAMPERING SSR CASE\n",
            "\n",
            "  sumiGho…\n",
            "\n",
            "18) You guys be ignoring my tweets just  like BJP ignores SSR case. ✋🏻🤐\n",
            "\n",
            "POLITICS HAMPERING SSR CASE\n",
            "\n",
            "19) Don't do Politics In SSR Case‼️\n",
            "nupurprasad  \n",
            "\n",
            "POLITICS HAMPERING SSR CASE\n",
            "\n",
            "20)maaran  116 k tweets smashed by SSRians...💪💥 \n",
            "POLITICS HAMPERING SSR CASE\n",
            "JusticeForSushantSinghRajput \n",
            "Sushan…\n",
            "\n",
            "21) Respected   ji  \n",
            " is politics  above the Law in this Country?  \n",
            "POLITICS HAMPERING SSR CASE\n",
            "\n",
            "22) hume har haal me SSR ke liye justice chaiye at any cost ek saal ho gaya itne der me bhagwan ji bhi a jate hoge lekin jus…\n",
            "\n",
            "23) How could the meme police declare it a suicide not a murder as soon as they reached the crime scene??\n",
            "\n",
            "How were they so su…\n",
            "\n",
            "24)Politics Hampering SSR Case\n",
            " \n",
            "🥺🦋🌈🌟🥀✨🍂🌪️🍁💫💔\n",
            "Ur eyes say's it's all\n",
            "Sushant 🥺💔💔 \n",
            "\n",
            "25) You guys be ignoring my tweets just  like BJP ignores SSR case. ✋🏻🤐\n",
            "\n",
            "POLITICS HAMPERING SSR CASE\n",
            "\n",
            "26) POLITICS HAMPERING SSR CASE because a Minister's son is involved in SSR's murder. But no political deals, No close door me…\n",
            "\n",
            "27) Did the CCTV Cameras of  opposite building caught 🐧entering SSR's apartment on 13th night ??\n",
            "nupurprasad  \n",
            "PO…\n",
            "\n",
            "28) Sushant apartment mount blanc on rent 4 lakh per month but why CBI allowing to do this?? \n",
            "\n",
            "POLITICS HAMPERING SSR CASE\n",
            "\n",
            "29) POLITICS HAMPERING SSR CASE\n",
            "please remove all the blockages\n",
            " \n",
            "\n",
            "30)   nupurprasad 😖😷 Itna hum bhgwan ko b yaad nahi karte jitna CBI ko karte hain Sachhi...\n",
            "\n",
            "When…\n",
            "\n",
            "31) AIIMS can't conclude that Sushant died by Su!c!de or Murder as they don't have the body of Him to conclude. It is the…\n",
            "\n",
            "32) How did stun gun shot mark appeared on sushant neck ?\n",
            "nupurprasad \n",
            "POLITICS HAMPERING SSR CASE\n",
            "\n",
            "33) 3️⃣0️⃣2️⃣ need of the hour nupurprasad ⚖️\n",
            "POLITICS HAMPERING SSR CASE\n",
            "\n",
            "34) Justice for sushant singh rajput\n",
            " \n",
            "POLITICS HAMPERING SSR CASE\n",
            "\n",
            "35) If Sushant's killers aren't punished then we'll lose our faith in the judicial system \n",
            "\n",
            "    we have…\n",
            "\n",
            "36)ayush ssr POLITICS HAMPERING SSR CASE\n",
            "\n",
            "37) 👉 Why no videography of PM Report of SSR ?\n",
            "\n",
            "nupurprasad \n",
            " \n",
            "\n",
            "POLITICS HAMPERING SSR CASE\n",
            "\n",
            "38)s Once upon a time media was the 4th pillar of democracy and now it seems they are misusing their freedoms and selling their own…\n",
            "\n",
            "39) NO political pressure should come into play. \n",
            " \n",
            "POLITICS HAMPERING SSR CASE\n",
            "\n",
            "40) Custodial interrogation is the only option you have left CBI nupurprasad \n",
            "\n",
            "POLITICS HAMPERING SSR CASE\n",
            "\n",
            "41) No Narco test done till now on the dubious people. Till now no Polygraph test done on the dubious ones.EVEN AFTER 1 YE…\n",
            "\n",
            "42) We reiterate no compromise will be tolerated.\n",
            "POLITICS HAMPERING SSR CASE\n",
            "\n",
            "43) POLITICS HAMPERING SSR CASE no doubt on that. \n",
            "Political bondings hampering this case. \n",
            "Political alliances hampering t…\n",
            "\n",
            "44) What is the Mystery of Karjat Farmhouse?\n",
            "Why was Republic Journalist got arrested when he was reporting from there?\n",
            "\n",
            "nupu…\n",
            "\n",
            "45) What's Your Problem ??????\n",
            "  \n",
            "Fadnavis india \n",
            " And All Paid Media \n",
            "Why Politi…\n",
            "\n",
            "46)POLITICS HAMPERING SSR CASE \n",
            "\n",
            "47) It seems nd  is sold out in SSR murder case.\n",
            "when r u again on SALE? SSR Army can buy you for making you speak the tru…\n",
            "\n",
            "48) Which minister is involved in this murder case?\n",
            "\n",
            "nupurprasad\n",
            "\n",
            "POLITICS HAMPERING SSR CASE\n",
            "\n",
            "49) Why Disha told not to leave Sushant house?? \n",
            "nupurprasad\n",
            "\n",
            "POLITICS HAMPERING SSR CASE\n",
            "\n",
            "50) Why does everything connect with Bhoi at the end?\n",
            "\n",
            "Writer and director of Nyaay is Dilip Gulati who is closest to bhoi's fam…\n",
            "\n",
            "51) 👉Sushant wanted to do press conference ,about what? who alerted the killers about that? \n",
            "\n",
            "nupurprasad \n",
            "\n",
            "POLITICS HAMPERI…\n",
            "\n",
            "52) Law is not law if it violates the principle of Eternal Justice.\n",
            "\n",
            "Justice for Sushant will prevail 🙏 \n",
            "\n",
            "Mam nupurprasad,…\n",
            "\n"
          ],
          "name": "stdout"
        }
      ]
    },
    {
      "cell_type": "code",
      "metadata": {
        "colab": {
          "base_uri": "https://localhost:8080/",
          "height": 441
        },
        "id": "P3D6ohPYFy0t",
        "outputId": "9c7ae090-5862-47a7-98db-2090f204f50f"
      },
      "source": [
        "#Plot the polarity and subjectivity\n",
        "plt.figure(figsize=(8,6))\n",
        "for i in range(0, df.shape[0]):\n",
        "  plt.scatter(df['Polarity'][i],df['Subjectivity'][i],color='Blue')\n",
        "  \n",
        "plt.title('Sentimental Analysis')\n",
        "plt.xlabel('Polarity')\n",
        "plt.ylabel('Subjectivity')\n",
        "plt.show()"
      ],
      "execution_count": 177,
      "outputs": [
        {
          "output_type": "display_data",
          "data": {
            "image/png": "[encoded data removed]",
            "text/plain": [
              "<Figure size 576x432 with 1 Axes>"
            ]
          },
          "metadata": {
            "tags": []
          }
        }
      ]
    },
    {
      "cell_type": "code",
      "metadata": {
        "colab": {
          "base_uri": "https://localhost:8080/"
        },
        "id": "V9iKDspwJNbp",
        "outputId": "bc3b1445-ad6e-468b-8472-088fce999e19"
      },
      "source": [
        "# Get the percentage positive tweets\n",
        "ptweets= df[df.Analysis=='Positive']\n",
        "ptweets= ptweets['Tweets']\n",
        "\n",
        "round((ptweets.shape[0] / df.shape[0])*100 ,1)"
      ],
      "execution_count": 179,
      "outputs": [
        {
          "output_type": "execute_result",
          "data": {
            "text/plain": [
              "28.0"
            ]
          },
          "metadata": {
            "tags": []
          },
          "execution_count": 179
        }
      ]
    },
    {
      "cell_type": "code",
      "metadata": {
        "colab": {
          "base_uri": "https://localhost:8080/"
        },
        "id": "GG0gsW3PJ_LQ",
        "outputId": "7515bb1f-c766-4652-f639-b6a0ffe6a4e1"
      },
      "source": [
        "# Get the percentage Negative tweets\n",
        "ntweets= df[df.Analysis=='Negative']\n",
        "ntweets= ntweets['Tweets']\n",
        "\n",
        "round((ntweets.shape[0] / df.shape[0])*100 ,1)"
      ],
      "execution_count": 180,
      "outputs": [
        {
          "output_type": "execute_result",
          "data": {
            "text/plain": [
              "20.0"
            ]
          },
          "metadata": {
            "tags": []
          },
          "execution_count": 180
        }
      ]
    },
    {
      "cell_type": "code",
      "metadata": {
        "colab": {
          "base_uri": "https://localhost:8080/"
        },
        "id": "XHn7A4aLKGsm",
        "outputId": "3a5aceb7-c2c6-4136-b636-6fef64fe7fc3"
      },
      "source": [
        "# Get the percentage Neutral tweets\n",
        "ptweets= df[df.Analysis=='Neutral']\n",
        "ptweets= ptweets['Tweets']\n",
        "\n",
        "round((ptweets.shape[0] / df.shape[0])*100 ,1)"
      ],
      "execution_count": 181,
      "outputs": [
        {
          "output_type": "execute_result",
          "data": {
            "text/plain": [
              "52.0"
            ]
          },
          "metadata": {
            "tags": []
          },
          "execution_count": 181
        }
      ]
    },
    {
      "cell_type": "code",
      "metadata": {
        "colab": {
          "base_uri": "https://localhost:8080/",
          "height": 374
        },
        "id": "VCJUgdn3KbUJ",
        "outputId": "2dd61d9e-3984-47ca-dbd6-fcfb7c138d16"
      },
      "source": [
        "#show the value count\n",
        "\n",
        "df['Analysis'].value_counts()\n",
        "\n",
        "\n",
        "#plot and visualize the count\n",
        "plt.title('Sentimental Analysis')\n",
        "plt.xlabel('Sentiment')\n",
        "plt.ylabel('Counts')\n",
        "df['Analysis'].value_counts().plot(kind='bar')\n",
        "plt.show()"
      ],
      "execution_count": 182,
      "outputs": [
        {
          "output_type": "display_data",
          "data": {
            "image/png": "[encoded data removed]",
            "text/plain": [
              "<Figure size 432x288 with 1 Axes>"
            ]
          },
          "metadata": {
            "tags": []
          }
        }
      ]
    },
    {
      "cell_type": "code",
      "metadata": {
        "id": "LJhObfpXMPf0"
      },
      "source": [
        ""
      ],
      "execution_count": null,
      "outputs": []
    }
  ]
}